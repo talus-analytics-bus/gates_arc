{
 "cells": [
  {
   "cell_type": "code",
   "execution_count": 10,
   "metadata": {},
   "outputs": [],
   "source": [
    "import requests\n",
    "\n",
    "import numpy as np\n",
    "import pandas as pd\n",
    "\n",
    "import json\n",
    "\n",
    "import math"
   ]
  },
  {
   "cell_type": "code",
   "execution_count": 11,
   "metadata": {},
   "outputs": [],
   "source": [
    "#funder = 'US'\n",
    "funder = 'bmgf'\n",
    "\n",
    "projects_url = f'http://127.0.0.1:5000/graphql?query=query%20fundersList%20%7B%0A%09funder(code%3A%20%22{funder}%22)%20%7B%0A%20%20%20%20projects%20%7B%0A%20%20%20%20%20%20projectId%0A%20%20%20%20%20%20projectName%0A%20%20%20%20%20%20funderRef%0A%20%20%20%20%20%20donorSector%0A%20%20%20%20%20%20donorCode%0A%20%20%20%20%20%20donorName%0A%20%20%20%20%20%20recipientCountry%0A%20%20%20%20%20%20recipientSector%0A%20%20%20%20%20%20recipientName%0A%20%20%20%20%20%20totalCommitted%0A%20%20%20%20%20%20totalSpent%0A%20%20%20%20%20%20totalCurrency%0A%20%20%20%20%20%20source%0A%20%20%20%20%20%20donorAmountUnspec%0A%20%20%20%20%20%20recipientAmountUnspec%0A%20%20%20%20%7D%0A%20%20%7D%20%0A%7D&operationName=fundersList'\n",
    "\n",
    "projects_json = requests.get(projects_url).json()['data']['funder']['projects']"
   ]
  },
  {
   "cell_type": "code",
   "execution_count": 12,
   "metadata": {},
   "outputs": [],
   "source": [
    "locations = pd.read_csv('country_locations_and_areas.csv')\n",
    "locations.set_index('name', inplace=True)\n",
    "locations.loc[:, 'area'] = locations.loc[:, 'area'].astype(float)"
   ]
  },
  {
   "cell_type": "code",
   "execution_count": 13,
   "metadata": {},
   "outputs": [],
   "source": [
    "def radius(area):\n",
    "    return math.sqrt(area / math.pi)\n",
    "\n",
    "def lat_extent(radius):\n",
    "    return (radius / 111)\n",
    "\n",
    "# 111,111 * cos(latitude) meters in the x direction is 1 degree\n",
    "# 111111 * cos(lat) / radius = degrees\n",
    "def lon_extent(radius, latitude):\n",
    "    return (radius / abs(111 * math.cos(latitude)) )"
   ]
  },
  {
   "cell_type": "code",
   "execution_count": 14,
   "metadata": {},
   "outputs": [
    {
     "data": {
      "text/plain": [
       "0.010636610766002396"
      ]
     },
     "execution_count": 14,
     "metadata": {},
     "output_type": "execute_result"
    }
   ],
   "source": [
    "162.423900 / abs(111111 * math.cos(23.424076))"
   ]
  },
  {
   "cell_type": "code",
   "execution_count": 15,
   "metadata": {},
   "outputs": [
    {
     "data": {
      "text/html": [
       "<div>\n",
       "<style scoped>\n",
       "    .dataframe tbody tr th:only-of-type {\n",
       "        vertical-align: middle;\n",
       "    }\n",
       "\n",
       "    .dataframe tbody tr th {\n",
       "        vertical-align: top;\n",
       "    }\n",
       "\n",
       "    .dataframe thead th {\n",
       "        text-align: right;\n",
       "    }\n",
       "</style>\n",
       "<table border=\"1\" class=\"dataframe\">\n",
       "  <thead>\n",
       "    <tr style=\"text-align: right;\">\n",
       "      <th></th>\n",
       "      <th>country</th>\n",
       "      <th>latitude</th>\n",
       "      <th>longitude</th>\n",
       "      <th>area</th>\n",
       "      <th>radius</th>\n",
       "      <th>lat_extent</th>\n",
       "      <th>lon_extent</th>\n",
       "    </tr>\n",
       "    <tr>\n",
       "      <th>name</th>\n",
       "      <th></th>\n",
       "      <th></th>\n",
       "      <th></th>\n",
       "      <th></th>\n",
       "      <th></th>\n",
       "      <th></th>\n",
       "      <th></th>\n",
       "    </tr>\n",
       "  </thead>\n",
       "  <tbody>\n",
       "    <tr>\n",
       "      <th>Andorra</th>\n",
       "      <td>AD</td>\n",
       "      <td>42.546245</td>\n",
       "      <td>1.601554</td>\n",
       "      <td>468.0</td>\n",
       "      <td>12.205287</td>\n",
       "      <td>0.109958</td>\n",
       "      <td>0.818521</td>\n",
       "    </tr>\n",
       "    <tr>\n",
       "      <th>United Arab Emirates</th>\n",
       "      <td>AE</td>\n",
       "      <td>23.424076</td>\n",
       "      <td>53.847818</td>\n",
       "      <td>82880.0</td>\n",
       "      <td>162.423900</td>\n",
       "      <td>1.463278</td>\n",
       "      <td>10.6472</td>\n",
       "    </tr>\n",
       "    <tr>\n",
       "      <th>Afghanistan</th>\n",
       "      <td>AF</td>\n",
       "      <td>33.939110</td>\n",
       "      <td>67.709953</td>\n",
       "      <td>647500.0</td>\n",
       "      <td>453.988603</td>\n",
       "      <td>4.089987</td>\n",
       "      <td>5.01961</td>\n",
       "    </tr>\n",
       "    <tr>\n",
       "      <th>Antigua and Barbuda</th>\n",
       "      <td>AG</td>\n",
       "      <td>17.060816</td>\n",
       "      <td>-61.796428</td>\n",
       "      <td>442.0</td>\n",
       "      <td>11.861407</td>\n",
       "      <td>0.106860</td>\n",
       "      <td>0.494211</td>\n",
       "    </tr>\n",
       "    <tr>\n",
       "      <th>Albania</th>\n",
       "      <td>AL</td>\n",
       "      <td>41.153332</td>\n",
       "      <td>20.168331</td>\n",
       "      <td>28748.0</td>\n",
       "      <td>95.659671</td>\n",
       "      <td>0.861799</td>\n",
       "      <td>0.905699</td>\n",
       "    </tr>\n",
       "    <tr>\n",
       "      <th>Armenia</th>\n",
       "      <td>AM</td>\n",
       "      <td>40.069099</td>\n",
       "      <td>45.038189</td>\n",
       "      <td>29800.0</td>\n",
       "      <td>97.394223</td>\n",
       "      <td>0.877425</td>\n",
       "      <td>1.2241</td>\n",
       "    </tr>\n",
       "    <tr>\n",
       "      <th>Netherlands Antilles</th>\n",
       "      <td>AN</td>\n",
       "      <td>12.226079</td>\n",
       "      <td>-69.060087</td>\n",
       "      <td>960.0</td>\n",
       "      <td>17.480775</td>\n",
       "      <td>0.157484</td>\n",
       "      <td>0.167064</td>\n",
       "    </tr>\n",
       "    <tr>\n",
       "      <th>Angola</th>\n",
       "      <td>AO</td>\n",
       "      <td>-11.202692</td>\n",
       "      <td>17.873887</td>\n",
       "      <td>1246700.0</td>\n",
       "      <td>629.949947</td>\n",
       "      <td>5.675225</td>\n",
       "      <td>27.5979</td>\n",
       "    </tr>\n",
       "    <tr>\n",
       "      <th>Argentina</th>\n",
       "      <td>AR</td>\n",
       "      <td>-38.416097</td>\n",
       "      <td>-63.616672</td>\n",
       "      <td>2780400.0</td>\n",
       "      <td>940.759697</td>\n",
       "      <td>8.475313</td>\n",
       "      <td>11.2436</td>\n",
       "    </tr>\n",
       "    <tr>\n",
       "      <th>Austria</th>\n",
       "      <td>AT</td>\n",
       "      <td>47.516231</td>\n",
       "      <td>14.550072</td>\n",
       "      <td>83858.0</td>\n",
       "      <td>163.379406</td>\n",
       "      <td>1.471887</td>\n",
       "      <td>1.59292</td>\n",
       "    </tr>\n",
       "  </tbody>\n",
       "</table>\n",
       "</div>"
      ],
      "text/plain": [
       "                     country   latitude  longitude       area      radius  \\\n",
       "name                                                                        \n",
       "Andorra                   AD  42.546245   1.601554      468.0   12.205287   \n",
       "United Arab Emirates      AE  23.424076  53.847818    82880.0  162.423900   \n",
       "Afghanistan               AF  33.939110  67.709953   647500.0  453.988603   \n",
       "Antigua and Barbuda       AG  17.060816 -61.796428      442.0   11.861407   \n",
       "Albania                   AL  41.153332  20.168331    28748.0   95.659671   \n",
       "Armenia                   AM  40.069099  45.038189    29800.0   97.394223   \n",
       "Netherlands Antilles      AN  12.226079 -69.060087      960.0   17.480775   \n",
       "Angola                    AO -11.202692  17.873887  1246700.0  629.949947   \n",
       "Argentina                 AR -38.416097 -63.616672  2780400.0  940.759697   \n",
       "Austria                   AT  47.516231  14.550072    83858.0  163.379406   \n",
       "\n",
       "                      lat_extent lon_extent  \n",
       "name                                         \n",
       "Andorra                 0.109958   0.818521  \n",
       "United Arab Emirates    1.463278    10.6472  \n",
       "Afghanistan             4.089987    5.01961  \n",
       "Antigua and Barbuda     0.106860   0.494211  \n",
       "Albania                 0.861799   0.905699  \n",
       "Armenia                 0.877425     1.2241  \n",
       "Netherlands Antilles    0.157484   0.167064  \n",
       "Angola                  5.675225    27.5979  \n",
       "Argentina               8.475313    11.2436  \n",
       "Austria                 1.471887    1.59292  "
      ]
     },
     "execution_count": 15,
     "metadata": {},
     "output_type": "execute_result"
    }
   ],
   "source": [
    "# r = sqrt(area / pi)\n",
    "locations.loc[:, 'radius'] = locations.loc[:, 'area'].map(radius)\n",
    "\n",
    "locations.loc[:, 'lat_extent'] = locations.loc[:, 'radius'].map(lat_extent)\n",
    "locations.loc[:, 'lon_extent'] = np.vectorize(lon_extent, otypes=[\"O\"]) (locations['radius'], locations['latitude'])\n",
    "\n",
    "locations.head(10)"
   ]
  },
  {
   "cell_type": "code",
   "execution_count": 16,
   "metadata": {},
   "outputs": [
    {
     "data": {
      "text/html": [
       "<div>\n",
       "<style scoped>\n",
       "    .dataframe tbody tr th:only-of-type {\n",
       "        vertical-align: middle;\n",
       "    }\n",
       "\n",
       "    .dataframe tbody tr th {\n",
       "        vertical-align: top;\n",
       "    }\n",
       "\n",
       "    .dataframe thead th {\n",
       "        text-align: right;\n",
       "    }\n",
       "</style>\n",
       "<table border=\"1\" class=\"dataframe\">\n",
       "  <thead>\n",
       "    <tr style=\"text-align: right;\">\n",
       "      <th></th>\n",
       "      <th>country</th>\n",
       "      <th>latitude</th>\n",
       "      <th>longitude</th>\n",
       "      <th>area</th>\n",
       "      <th>radius</th>\n",
       "      <th>lat_extent</th>\n",
       "      <th>lon_extent</th>\n",
       "    </tr>\n",
       "    <tr>\n",
       "      <th>name</th>\n",
       "      <th></th>\n",
       "      <th></th>\n",
       "      <th></th>\n",
       "      <th></th>\n",
       "      <th></th>\n",
       "      <th></th>\n",
       "      <th></th>\n",
       "    </tr>\n",
       "  </thead>\n",
       "  <tbody>\n",
       "    <tr>\n",
       "      <th>United States of America</th>\n",
       "      <td>US</td>\n",
       "      <td>37.09024</td>\n",
       "      <td>-95.712891</td>\n",
       "      <td>9525067.0</td>\n",
       "      <td>1741.241796</td>\n",
       "      <td>15.686863</td>\n",
       "      <td>19.1235</td>\n",
       "    </tr>\n",
       "  </tbody>\n",
       "</table>\n",
       "</div>"
      ],
      "text/plain": [
       "                         country  latitude  longitude       area       radius  \\\n",
       "name                                                                            \n",
       "United States of America      US  37.09024 -95.712891  9525067.0  1741.241796   \n",
       "\n",
       "                          lat_extent lon_extent  \n",
       "name                                             \n",
       "United States of America   15.686863    19.1235  "
      ]
     },
     "execution_count": 16,
     "metadata": {},
     "output_type": "execute_result"
    }
   ],
   "source": [
    "locations.loc[(locations.country == 'US')]"
   ]
  },
  {
   "cell_type": "code",
   "execution_count": 17,
   "metadata": {},
   "outputs": [],
   "source": [
    "us_from = {\n",
    "    'name':\t'United States of America',\n",
    "    'coordinates': [-95.712891, 37.09024],\n",
    "    'extent':  [19.1235, 15.686863],\n",
    "}\n",
    "\n",
    "gates_from = {\n",
    "    'name':\t'Bill & Melinda Gates Foundation',\n",
    "    'coordinates': [-122.3321, 47.6062],\n",
    "    'extent':  [1, 1],\n",
    "}"
   ]
  },
  {
   "cell_type": "code",
   "execution_count": 18,
   "metadata": {},
   "outputs": [],
   "source": [
    "new_proj_list = []\n",
    "\n",
    "max_outbound = 0\n",
    "\n",
    "for project in projects_json:\n",
    "    \n",
    "    proj = {}\n",
    "    \n",
    "    try:\n",
    "        proj['from'] = gates_from\n",
    "\n",
    "        from_coords = [locations.loc[project['recipientName'], 'longitude'],\n",
    "                       locations.loc[project['recipientName'], 'latitude']]\n",
    "\n",
    "        from_extent = [locations.loc[project['recipientName'], 'lon_extent'],\n",
    "                       locations.loc[project['recipientName'], 'lat_extent']] \n",
    "\n",
    "\n",
    "        to_coords = [locations.loc[project['recipientName'], 'longitude'],\n",
    "                     locations.loc[project['recipientName'], 'latitude']]\n",
    "\n",
    "        to_extent = [locations.loc[project['recipientName'], 'lon_extent'],\n",
    "                     locations.loc[project['recipientName'], 'lat_extent']]\n",
    "        \n",
    "        proj['to'] = {'name': project['recipientName'], 'coordinates': to_coords, 'extent': to_extent}\n",
    "\n",
    "        proj['name'] = project['projectName']\n",
    "        proj['outbound'] = project['totalCommitted']\n",
    "        \n",
    "        if proj['outbound'] > max_outbound:\n",
    "            max_outbound = proj['outbound']\n",
    "        \n",
    "        # print(proj)\n",
    "        \n",
    "        new_proj_list.append(proj)\n",
    "    except KeyError:\n",
    "        pass"
   ]
  },
  {
   "cell_type": "code",
   "execution_count": 19,
   "metadata": {},
   "outputs": [
    {
     "data": {
      "text/plain": [
       "77601500.0"
      ]
     },
     "execution_count": 19,
     "metadata": {},
     "output_type": "execute_result"
    }
   ],
   "source": [
    "max_outbound"
   ]
  },
  {
   "cell_type": "code",
   "execution_count": 20,
   "metadata": {},
   "outputs": [
    {
     "data": {
      "text/plain": [
       "{'from': {'name': 'Bill & Melinda Gates Foundation',\n",
       "  'coordinates': [-122.3321, 47.6062],\n",
       "  'extent': [1, 1]},\n",
       " 'to': {'name': 'Zambia',\n",
       "  'coordinates': [27.849332, -13.133897],\n",
       "  'extent': [5.229263345450484, 4.409488671967828]},\n",
       " 'name': 'ACTION Global Health Partnership Advocacy Anchor Grant 2014-2017',\n",
       " 'outbound': 599180.9689999999}"
      ]
     },
     "execution_count": 20,
     "metadata": {},
     "output_type": "execute_result"
    }
   ],
   "source": [
    "new_proj_list[0]"
   ]
  },
  {
   "cell_type": "code",
   "execution_count": 21,
   "metadata": {},
   "outputs": [],
   "source": [
    "with open('Gates_funding_data.json', 'w') as outfile:  \n",
    "    json.dump(new_proj_list, outfile)"
   ]
  },
  {
   "cell_type": "code",
   "execution_count": null,
   "metadata": {},
   "outputs": [],
   "source": []
  }
 ],
 "metadata": {
  "kernelspec": {
   "display_name": "Python 3",
   "language": "python",
   "name": "python3"
  },
  "language_info": {
   "codemirror_mode": {
    "name": "ipython",
    "version": 3
   },
   "file_extension": ".py",
   "mimetype": "text/x-python",
   "name": "python",
   "nbconvert_exporter": "python",
   "pygments_lexer": "ipython3",
   "version": "3.7.4"
  }
 },
 "nbformat": 4,
 "nbformat_minor": 2
}
